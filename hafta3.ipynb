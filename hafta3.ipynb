{
  "cells": [
    {
      "cell_type": "markdown",
      "metadata": {
        "id": "view-in-github",
        "colab_type": "text"
      },
      "source": [
        "<a href=\"https://colab.research.google.com/github/47memed47/Yapay-Zeka-Laboratuvar-Odevleri/blob/master/hafta3.ipynb\" target=\"_parent\"><img src=\"https://colab.research.google.com/assets/colab-badge.svg\" alt=\"Open In Colab\"/></a>"
      ]
    },
    {
      "cell_type": "code",
      "execution_count": null,
      "id": "49f544e7",
      "metadata": {
        "id": "49f544e7",
        "outputId": "d7b5a101-c307-4acf-ef89-32232cd86a37"
      },
      "outputs": [
        {
          "name": "stdout",
          "output_type": "stream",
          "text": [
            "Hafta3-Soru1\n",
            "Lütfen bir sayı giriniz : 4\n",
            "4\n",
            "8\n",
            "12\n",
            "16\n",
            "20\n",
            "24\n",
            "28\n",
            "32\n",
            "36\n",
            "40\n"
          ]
        }
      ],
      "source": [
        "print(\"Hafta3-Soru1\")\n",
        "sayi=int(input(\"Lütfen bir sayı giriniz : \"))\n",
        "for i in range(1,11):\n",
        "    sonuc=i*sayi\n",
        "    print(sonuc)"
      ]
    },
    {
      "cell_type": "code",
      "execution_count": null,
      "id": "e7417741",
      "metadata": {
        "id": "e7417741",
        "outputId": "ff59cd66-eed6-46ee-f98f-9bda0732858c"
      },
      "outputs": [
        {
          "name": "stdout",
          "output_type": "stream",
          "text": [
            "Hafta3-Soru2\n",
            "Lütfen bir sayı giriniz : 123456789\n",
            "9\n"
          ]
        }
      ],
      "source": [
        "print(\"Hafta3-Soru2\")\n",
        "bsayi=int(input(\"Lütfen bir sayı giriniz : \"))\n",
        "yenisayi=bsayi\n",
        "basamak=1\n",
        "while bsayi>10 or bsayi<-10:\n",
        "    bsayi=bsayi/10\n",
        "    basamak=basamak+1\n",
        "print (basamak)"
      ]
    },
    {
      "cell_type": "code",
      "execution_count": null,
      "id": "8f9dbf3a",
      "metadata": {
        "id": "8f9dbf3a",
        "outputId": "b632aa39-5bc0-40a4-ecf5-6aae02b21993"
      },
      "outputs": [
        {
          "name": "stdout",
          "output_type": "stream",
          "text": [
            "Hafta3-Soru3 *** for ile\n",
            "[15, 55, 75, 150]\n"
          ]
        }
      ],
      "source": [
        "print(\"Hafta3-Soru3 *** for ile\")\n",
        "sayisaldegerler=[12, 15, 32, 32, 42, 55, 75, 122, 132, 150, 180, 200]\n",
        "dogrudegerler=[]\n",
        "for i in sayisaldegerler:\n",
        "    if i%5==0 and i<151:\n",
        "        dogrudegerler.append(i)\n",
        "        \n",
        "print  (dogrudegerler)"
      ]
    },
    {
      "cell_type": "code",
      "execution_count": null,
      "id": "d092be46",
      "metadata": {
        "id": "d092be46",
        "outputId": "716d9bd2-81ef-4f0e-93cb-a57f84015134"
      },
      "outputs": [
        {
          "name": "stdout",
          "output_type": "stream",
          "text": [
            "Hafta3-Soru3 *** while ile\n",
            "[15, 55, 75, 150]\n"
          ]
        }
      ],
      "source": [
        "print(\"Hafta3-Soru3 *** while ile\")\n",
        "sayisaldegerler2=[12, 15, 32, 32, 42, 55, 75, 122, 132, 150, 180, 200]\n",
        "dogrudegerler2=[]\n",
        "b=0\n",
        "while b<len(sayisaldegerler2):\n",
        "    if (sayisaldegerler2[b]%5==0 and sayisaldegerler2[b]<151):\n",
        "        dogrudegerler2.append(sayisaldegerler2[b])\n",
        "    b+=1\n",
        "print (dogrudegerler2)"
      ]
    },
    {
      "cell_type": "code",
      "execution_count": null,
      "id": "80d0591a",
      "metadata": {
        "id": "80d0591a",
        "outputId": "c9ccbbbd-85fd-402c-f0fe-1a100a4969d5"
      },
      "outputs": [
        {
          "name": "stdout",
          "output_type": "stream",
          "text": [
            "Hafta3-Soru4\n",
            "a değerini giriniz : 50\n",
            "b değerini giriniz : 50\n",
            "c değerini giriniz : 50\n",
            "a ve b sayısı birbirine eşit\n"
          ]
        }
      ],
      "source": [
        "print (\"Hafta3-Soru4\")\n",
        "a=int(input(\"a değerini giriniz : \"))\n",
        "b=int(input(\"b değerini giriniz : \"))\n",
        "c=int(input(\"c değerini giriniz : \"))\n",
        "sy=0\n",
        "sy2=0\n",
        "if a<b :\n",
        "    k=a\n",
        "    while  k<=b:\n",
        "        if k%c==0:\n",
        "            sy+=1\n",
        "        k+=1\n",
        "    print (sy)\n",
        "elif b<a:\n",
        "    l=b\n",
        "    while l<=a:\n",
        "        if l%c==0:\n",
        "            sy2+=1\n",
        "        l+=1\n",
        "    print (sy2)\n",
        "else:\n",
        "    print (\"a ve b sayısı birbirine eşit\")\n",
        "    "
      ]
    },
    {
      "cell_type": "code",
      "execution_count": null,
      "id": "841eaba2",
      "metadata": {
        "id": "841eaba2",
        "outputId": "0422b328-d74c-48fe-daa0-66393f8bbd84"
      },
      "outputs": [
        {
          "name": "stdout",
          "output_type": "stream",
          "text": [
            "Hafta3-Soru5\n",
            "1 - 99\n",
            "2 - 98\n",
            "3 - 97\n",
            "4 - 96\n",
            "5 - 95\n",
            "6 - 94\n",
            "7 - 93\n",
            "8 - 92\n",
            "9 - 91\n",
            "10 - 90\n",
            "11 - 89\n",
            "12 - 88\n",
            "13 - 87\n",
            "14 - 86\n",
            "15 - 85\n",
            "16 - 84\n",
            "17 - 83\n",
            "18 - 82\n",
            "19 - 81\n",
            "20 - 80\n",
            "21 - 79\n",
            "22 - 78\n",
            "23 - 77\n",
            "24 - 76\n",
            "25 - 75\n",
            "26 - 74\n",
            "27 - 73\n",
            "28 - 72\n",
            "29 - 71\n",
            "30 - 70\n",
            "31 - 69\n",
            "32 - 68\n",
            "33 - 67\n",
            "34 - 66\n",
            "35 - 65\n",
            "36 - 64\n",
            "37 - 63\n",
            "38 - 62\n",
            "39 - 61\n",
            "40 - 60\n",
            "41 - 59\n",
            "42 - 58\n",
            "43 - 57\n",
            "44 - 56\n",
            "45 - 55\n",
            "46 - 54\n",
            "47 - 53\n",
            "48 - 52\n",
            "49 - 51\n",
            "50 - 50\n",
            "51 - 49\n",
            "52 - 48\n",
            "53 - 47\n",
            "54 - 46\n",
            "55 - 45\n",
            "56 - 44\n",
            "57 - 43\n",
            "58 - 42\n",
            "59 - 41\n",
            "60 - 40\n",
            "61 - 39\n",
            "62 - 38\n",
            "63 - 37\n",
            "64 - 36\n",
            "65 - 35\n",
            "66 - 34\n",
            "67 - 33\n",
            "68 - 32\n",
            "69 - 31\n",
            "70 - 30\n",
            "71 - 29\n",
            "72 - 28\n",
            "73 - 27\n",
            "74 - 26\n",
            "75 - 25\n",
            "76 - 24\n",
            "77 - 23\n",
            "78 - 22\n",
            "79 - 21\n",
            "80 - 20\n",
            "81 - 19\n",
            "82 - 18\n",
            "83 - 17\n",
            "84 - 16\n",
            "85 - 15\n",
            "86 - 14\n",
            "87 - 13\n",
            "88 - 12\n",
            "89 - 11\n",
            "90 - 10\n",
            "91 - 9\n",
            "92 - 8\n",
            "93 - 7\n",
            "94 - 6\n",
            "95 - 5\n",
            "96 - 4\n",
            "97 - 3\n",
            "98 - 2\n",
            "99 - 1\n"
          ]
        }
      ],
      "source": [
        "print (\"Hafta3-Soru5\")\n",
        "a=1\n",
        "b=99\n",
        "while a<=99 and b>=1:\n",
        "    print(a,\"-\",b)\n",
        "    a+=1\n",
        "    b-=1\n",
        "# for i in range(1,100):\n",
        "    # print(i,\"-\",100-i)"
      ]
    },
    {
      "cell_type": "code",
      "execution_count": null,
      "id": "d6c05309",
      "metadata": {
        "id": "d6c05309",
        "outputId": "1b3b28c2-0eb7-4aee-9a68-2ef01ace57ae"
      },
      "outputs": [
        {
          "name": "stdout",
          "output_type": "stream",
          "text": [
            "Hafta3-Soru6\n",
            "Örnek ip adresi : 192 168 255 252\n",
            "192: a bloğu\n",
            "168: b bloğu\n",
            "255: c bloğu\n",
            "252: d bloğu\n",
            "Lütfen bloklar şeklinde bir ip adresi giriniz\n",
            "a bloğu için bir değer giriniz :255\n",
            "b bloğu için bir değer giriniz :255\n",
            "c bloğu için bir değer giriniz :255\n",
            "d bloğu için bir değer giriniz :253\n",
            "255 255 255 254\n",
            "255 255 255 255\n"
          ]
        }
      ],
      "source": [
        "print (\"Hafta3-Soru6\")\n",
        "print (\"Örnek ip adresi : 192 168 255 252\")\n",
        "print (\"192: a bloğu\")\n",
        "print (\"168: b bloğu\")\n",
        "print (\"255: c bloğu\")\n",
        "print (\"252: d bloğu\")\n",
        "print (\"Lütfen bloklar şeklinde bir ip adresi giriniz\")\n",
        "dongu=True\n",
        "while dongu:\n",
        "    a=int(input(\"a bloğu için bir değer giriniz :\"))\n",
        "    if a<=255 and a>=0:\n",
        "        dongu=False\n",
        "    else:\n",
        "            print (\"Lütfen a bloğu için geçerli bir sayı giriniz\")\n",
        "            dongu=True\n",
        "dongu=True\n",
        "while dongu:\n",
        "    b=int(input(\"b bloğu için bir değer giriniz :\"))\n",
        "    if b<=255 and b>=0:\n",
        "        dongu=False\n",
        "    else:\n",
        "            print (\"Lütfen b bloğu geçerli bir sayı giriniz\")\n",
        "            dongu=True\n",
        "dongu=True\n",
        "while dongu:\n",
        "    c=int(input(\"c bloğu için bir değer giriniz :\"))\n",
        "    if c<=255 and c>=0:\n",
        "        dongu=False\n",
        "    else:\n",
        "            print (\"Lütfen c bloğu geçerli bir sayı giriniz\")\n",
        "            dongu=True\n",
        "dongu=True\n",
        "while dongu:\n",
        "    d=int(input(\"d bloğu için bir değer giriniz :\"))\n",
        "    if d<=255 and d>=0:\n",
        "        dongu=False\n",
        "    else:\n",
        "            print (\"Lütfen d bloğu geçerli bir sayı giriniz\")\n",
        "            dongu=True\n",
        "for i in range(1,6):\n",
        "    d+=1\n",
        "    if d>=256:\n",
        "        d=0\n",
        "        c=c+1\n",
        "        if c>=256:\n",
        "            c=0\n",
        "            b=b+1\n",
        "            if b>=256:\n",
        "                b=0\n",
        "                a=a+1\n",
        "                if a>=256:\n",
        "                    break\n",
        "    print (a,b,c,d)"
      ]
    },
    {
      "cell_type": "code",
      "execution_count": null,
      "id": "b5632681",
      "metadata": {
        "id": "b5632681"
      },
      "outputs": [],
      "source": [
        ""
      ]
    }
  ],
  "metadata": {
    "kernelspec": {
      "display_name": "Python 3 (ipykernel)",
      "language": "python",
      "name": "python3"
    },
    "language_info": {
      "codemirror_mode": {
        "name": "ipython",
        "version": 3
      },
      "file_extension": ".py",
      "mimetype": "text/x-python",
      "name": "python",
      "nbconvert_exporter": "python",
      "pygments_lexer": "ipython3",
      "version": "3.9.7"
    },
    "colab": {
      "name": "hafta3.ipynb",
      "provenance": [],
      "include_colab_link": true
    }
  },
  "nbformat": 4,
  "nbformat_minor": 5
}