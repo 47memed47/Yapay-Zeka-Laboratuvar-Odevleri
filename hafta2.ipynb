{
  "cells": [
    {
      "cell_type": "markdown",
      "metadata": {
        "id": "view-in-github",
        "colab_type": "text"
      },
      "source": [
        "<a href=\"https://colab.research.google.com/github/47memed47/Yapay-Zeka-Laboratuvar-Odevleri/blob/master/hafta2.ipynb\" target=\"_parent\"><img src=\"https://colab.research.google.com/assets/colab-badge.svg\" alt=\"Open In Colab\"/></a>"
      ]
    },
    {
      "cell_type": "code",
      "execution_count": null,
      "id": "4d301878",
      "metadata": {
        "id": "4d301878",
        "outputId": "ac1bd445-44ac-4d48-9885-a28f7f7cd688"
      },
      "outputs": [
        {
          "name": "stdout",
          "output_type": "stream",
          "text": [
            "Hafta2-Soru1\n",
            "1. Aciyi giriniz: 90\n",
            "2. Aciyi giriniz: 60\n",
            "3. Aciyi giriniz: 60\n",
            "Bu Bir Üçgen Deildir\n"
          ]
        }
      ],
      "source": [
        "print(\"Hafta2-Soru1\")\n",
        "try:\n",
        "    aci1 = int(input(\"1. Aciyi giriniz: \"))\n",
        "    aci2 = int(input(\"2. Aciyi giriniz: \"))\n",
        "    aci3 = int(input(\"3. Aciyi giriniz: \"))\n",
        "except:\n",
        "    print(\"Lütfen girdiginiz degerleri kontrol edin.\")    \n",
        "if (aci1+aci2+aci3)==180:\n",
        "    if (aci1<90 and aci2<90 and aci3<90):\n",
        "        print(\"Dar Açılı Üçgendir\")\n",
        "    elif (aci1== 90 or aci2== 90 or aci3== 90):\n",
        "        print(\"Dik Üçgendir\")\n",
        "    elif (aci1 > 90 or aci2 > 90 or aci3 > 90):\n",
        "        print(\"Genis Açılı Üçgendir\")\n",
        "else:\n",
        "    print(\"Bu Bir Üçgen Deildir\")"
      ]
    },
    {
      "cell_type": "code",
      "execution_count": null,
      "id": "6087e263",
      "metadata": {
        "id": "6087e263",
        "outputId": "bd1e1fb4-1ee9-41a8-e6eb-9f66a9af20a3"
      },
      "outputs": [
        {
          "name": "stdout",
          "output_type": "stream",
          "text": [
            "Hafta2-Soru2\n",
            "Yeşil, Sarı Veya Kırmızı Renklerinden Birini Yazınız : yeşil\n",
            "Tebrikler, yeşil uzaylıya ateş ettiğiniz için 5 puan kazandınız\n"
          ]
        }
      ],
      "source": [
        "print(\"Hafta2-Soru2\")\n",
        "uzayli_rengi=input(\"Yeşil, Sarı Veya Kırmızı Renklerinden Birini Yazınız : \")\n",
        "if (uzayli_rengi == \"yeşil\"):\n",
        "    print(\"Tebrikler, yeşil uzaylıya ateş ettiğiniz için 5 puan kazandınız\")\n",
        "else:\n",
        "    print(\"Tebrikler, yeşil olmayan uzaylıya ateş ettiğiniz için 10 puan kazandınız\")\n",
        "\n"
      ]
    },
    {
      "cell_type": "code",
      "execution_count": null,
      "id": "8d2e30c3",
      "metadata": {
        "id": "8d2e30c3",
        "outputId": "cc0d4257-4910-4b30-bf60-690beb9456ea"
      },
      "outputs": [
        {
          "name": "stdout",
          "output_type": "stream",
          "text": [
            "Hafta2-Soru2\n",
            "Yeşil, Sarı Veya Kırmızı Renklerinden Birini Yazınız : kırmızı\n",
            "Tebrikler, kırmızı uzaylıya ateş ettiğiniz için 15 puan kazandınız\n"
          ]
        }
      ],
      "source": [
        "print(\"Hafta2-Soru3\")\n",
        "uzayli_rengi2=input(\"Yeşil, Sarı Veya Kırmızı Renklerinden Birini Yazınız : \")\n",
        "if (uzayli_rengi2 == \"yeşil\"):\n",
        "    print(\"Tebrikler, yeşil uzaylıya ateş ettiğiniz için 5 puan kazandınız\")\n",
        "elif (uzayli_rengi2 == \"sarı\"):\n",
        "    print(\"Tebrikler, sarı uzaylıya ateş ettiğiniz için 10 puan kazandınız\")\n",
        "elif (uzayli_rengi2 == \"kırmızı\"):\n",
        "    print(\"Tebrikler, kırmızı uzaylıya ateş ettiğiniz için 15 puan kazandınız\") "
      ]
    },
    {
      "cell_type": "code",
      "execution_count": null,
      "id": "a5081dfc",
      "metadata": {
        "id": "a5081dfc",
        "outputId": "88b86a64-fb72-4647-ab25-1e8c37fdf190"
      },
      "outputs": [
        {
          "name": "stdout",
          "output_type": "stream",
          "text": [
            "Hafta2-Soru4\n",
            "Lütfen bir yaş giriniz : 40\n",
            "Bu kişi bir yetişkindir\n"
          ]
        }
      ],
      "source": [
        "print(\"Hafta2-Soru4\")\n",
        "yas=int(input(\"Lütfen bir yaş giriniz : \"))\n",
        "if (yas>-1 and yas<130):\n",
        "    if (yas<2):\n",
        "        print (\"Bu kişi bir bebektir\")\n",
        "    elif (yas>1 and yas<4):\n",
        "        print (\"Bu kişi yürümeye yeni başlayan bir çocuktur\")\n",
        "    elif (yas>3 and yas<13):\n",
        "        print (\"Bu kişi bir çocuktur\")\n",
        "    elif (yas>12 and yas<20):\n",
        "        print(\"Bu kişi bir ergendir\")\n",
        "    elif (yas>19 and yas<65):\n",
        "        print (\"Bu kişi bir yetişkindir\")\n",
        "    elif (yas>64):\n",
        "        print (\"Bu kişi bir yaşlıdır\")\n",
        "else:\n",
        "    print(\"Biraz abarttık galiba :)\")\n",
        "       \n"
      ]
    },
    {
      "cell_type": "code",
      "execution_count": null,
      "id": "1fedfe6c",
      "metadata": {
        "id": "1fedfe6c",
        "outputId": "1be7ce94-7892-45ac-d189-8c9d09b7c4f0"
      },
      "outputs": [
        {
          "name": "stdout",
          "output_type": "stream",
          "text": [
            "Hafta1-Soru5\n",
            "Örnek meyvelerden elma favori listesinde de bulunmaktadır.\n",
            "Örnek meyvelerden kavun favori listesinde de bulunmaktadır.\n",
            "Örnek meyvelerden kiraz favori listesinde de bulunmaktadır.\n"
          ]
        }
      ],
      "source": [
        "print (\"Hafta1-Soru5\")\n",
        "ornek_meyve = [\"elma\", \"armut\", \"karpuz\", \"kavun\", \"muz\", \"portakal\", \"çilek\", \"vişne\", \"kiraz\", \"mandalina\"]\n",
        "favori_meyve = [\"elma\", \"kiraz\", \"kavun\", \"üzüm\", \"kayısı\"]\n",
        "for f in ornek_meyve:\n",
        "    for o in favori_meyve:\n",
        "        if (f==o):\n",
        "            print(\"Örnek meyvelerden\",o, \"favori listesinde de bulunmaktadır.\" )"
      ]
    }
  ],
  "metadata": {
    "kernelspec": {
      "display_name": "Python 3 (ipykernel)",
      "language": "python",
      "name": "python3"
    },
    "language_info": {
      "codemirror_mode": {
        "name": "ipython",
        "version": 3
      },
      "file_extension": ".py",
      "mimetype": "text/x-python",
      "name": "python",
      "nbconvert_exporter": "python",
      "pygments_lexer": "ipython3",
      "version": "3.9.7"
    },
    "colab": {
      "name": "hafta2.ipynb",
      "provenance": [],
      "include_colab_link": true
    }
  },
  "nbformat": 4,
  "nbformat_minor": 5
}